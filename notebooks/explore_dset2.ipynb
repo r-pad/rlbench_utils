{
 "cells": [
  {
   "cell_type": "code",
   "execution_count": null,
   "metadata": {},
   "outputs": [],
   "source": [
    "%load_ext autoreload\n",
    "%autoreload 2"
   ]
  },
  {
   "cell_type": "code",
   "execution_count": null,
   "metadata": {},
   "outputs": [],
   "source": [
    "from rpad.rlbench_utils.placement_dataset import RLBenchPlacementDataset, load_handle_mapping, load_state_pos_dict, TASK_DICT\n",
    "import numpy as np\n",
    "from rpad.rlbench_utils.task_info import RLBENCH_10_TASKS\n",
    "from rpad.visualize_3d.plots import segmentation_fig\n",
    "import torch\n",
    "import matplotlib.pyplot as plt\n",
    "from plotly.subplots import make_subplots\n"
   ]
  },
  {
   "cell_type": "code",
   "execution_count": null,
   "metadata": {},
   "outputs": [],
   "source": [
    "dset = RLBenchPlacementDataset(\n",
    "    dataset_root=\"/data/rlbench10_collisions/\",\n",
    "    # task_name=\"stack_wine\",\n",
    "    # task_name=\"insert_onto_square_peg\",\n",
    "    # task_name=\"insert_usb_in_computer\",\n",
    "    # task_name=\"phone_on_base\",\n",
    "    # task_name=\"put_toilet_roll_on_stand\",\n",
    "    # task_name=\"place_hanger_on_rack\",\n",
    "    # task_name=\"solve_puzzle\",\n",
    "    # task_name=\"take_umbrella_out_of_umbrella_stand\",\n",
    "    task_name=\"slide_block_to_target\",\n",
    "    demos=range(100),\n",
    "    phase=\"all\",\n",
    ")"
   ]
  },
  {
   "cell_type": "code",
   "execution_count": null,
   "metadata": {},
   "outputs": [],
   "source": [
    "data = dset[0]"
   ]
  },
  {
   "cell_type": "code",
   "execution_count": null,
   "metadata": {},
   "outputs": [],
   "source": [
    "data[\"ignore_collisions\"]"
   ]
  },
  {
   "cell_type": "code",
   "execution_count": null,
   "metadata": {},
   "outputs": [],
   "source": [
    "data.keys()"
   ]
  },
  {
   "cell_type": "code",
   "execution_count": null,
   "metadata": {},
   "outputs": [],
   "source": [
    "low_dim_state_dict = load_state_pos_dict(\n",
    "    \"/data/rlbench10\", \"slide_block_to_target\", 0, 0\n",
    ")"
   ]
  },
  {
   "cell_type": "code",
   "execution_count": null,
   "metadata": {},
   "outputs": [],
   "source": [
    "import rlbench\n",
    "from rlbench.observation_config import CameraConfig, ObservationConfig\n",
    "\n",
    "demos = rlbench.utils.get_stored_demos(\n",
    "    amount=10,\n",
    "    image_paths=False,\n",
    "    dataset_root=\"/data/rlbench10_collisions\",\n",
    "    variation_number=0,\n",
    "    # task_name=\"slide_block_to_target\",\n",
    "    # task_name=\"reach_target\",\n",
    "    task_name=\"stack_wine\",\n",
    "    obs_config=ObservationConfig(\n",
    "        left_shoulder_camera=CameraConfig(image_size=(256, 256)),\n",
    "        right_shoulder_camera=CameraConfig(image_size=(256, 256)),\n",
    "        front_camera=CameraConfig(image_size=(256, 256)),\n",
    "        wrist_camera=CameraConfig(image_size=(256, 256)),\n",
    "        overhead_camera=CameraConfig(image_size=(256, 256)),\n",
    "        task_low_dim_state=True,\n",
    "    ),\n",
    "    random_selection=False,\n",
    "    from_episode_number=0,\n",
    ")"
   ]
  },
  {
   "cell_type": "code",
   "execution_count": null,
   "metadata": {},
   "outputs": [],
   "source": [
    "\n",
    "for i in range(len(demo)):\n",
    "    print(demo[i].ignore_collisions)"
   ]
  },
  {
   "cell_type": "code",
   "execution_count": null,
   "metadata": {},
   "outputs": [],
   "source": [
    "from rpad.rlbench_utils.keyframing_pregrasp import keypoint_discovery_pregrasp\n",
    "\n",
    "\n",
    "keyframe_ixs = keypoint_discovery_pregrasp(demo)\n",
    "\n",
    "keyframes = [demo[ix] for ix in keyframe_ixs]"
   ]
  },
  {
   "cell_type": "code",
   "execution_count": null,
   "metadata": {},
   "outputs": [],
   "source": [
    "import numpy as np"
   ]
  },
  {
   "cell_type": "code",
   "execution_count": null,
   "metadata": {},
   "outputs": [],
   "source": [
    "all_colls = []\n",
    "for demo in demos:\n",
    "    keyframe_ixs = keypoint_discovery_pregrasp(demo)\n",
    "    keyframes = [demo[ix] for ix in keyframe_ixs]\n",
    "    colls = [keyframe.ignore_collisions for keyframe in keyframes]\n",
    "    all_colls.append(colls)\n",
    "\n",
    "all_colls = np.array(all_colls)\n",
    "all_colls"
   ]
  },
  {
   "cell_type": "code",
   "execution_count": null,
   "metadata": {},
   "outputs": [],
   "source": [
    "print(list(low_dim_state_dict.items()))"
   ]
  },
  {
   "cell_type": "markdown",
   "metadata": {},
   "source": [
    "# Show the \"initial\" and \"final\" observations for a single episode."
   ]
  },
  {
   "cell_type": "code",
   "execution_count": null,
   "metadata": {},
   "outputs": [],
   "source": [
    "dset = RLBenchPlacementDataset(\n",
    "    dataset_root=\"/data/rlbench10/\",\n",
    "    # task_name=\"stack_wine\",\n",
    "    # task_name=\"insert_onto_square_peg\",\n",
    "    # task_name=\"insert_usb_in_computer\",\n",
    "    # task_name=\"phone_on_base\",\n",
    "    # task_name=\"put_toilet_roll_on_stand\",\n",
    "    # task_name=\"place_hanger_on_rack\",\n",
    "    # task_name=\"solve_puzzle\",\n",
    "    # task_name=\"take_umbrella_out_of_umbrella_stand\",\n",
    "    task_name=\"slide_block_to_target\",\n",
    "    demos=[0],\n",
    "    phase=\"all\",\n",
    "    use_first_as_init_keyframe=False,\n",
    ")\n",
    "\n",
    "# Number of phases.\n",
    "N = len(dset)\n",
    "\n",
    "# Grid of images, where the rows are the initial and final images, and the columns are the different phases.\n",
    "\n",
    "\n",
    "fig, axes = plt.subplots(2, N, figsize=(5 * N, 10))\n",
    "for i in range(N):\n",
    "    data = dset[i]\n",
    "    axes[0, i].imshow(data[\"init_front_rgb\"])\n",
    "    axes[1, i].imshow(data[\"key_front_rgb\"])\n",
    "\n",
    "    # Title of the column.\n",
    "    axes[0, i].set_title(data[\"phase\"])\n"
   ]
  },
  {
   "cell_type": "markdown",
   "metadata": {},
   "source": [
    "# For each phase, show the first 10 final observations."
   ]
  },
  {
   "cell_type": "code",
   "execution_count": null,
   "metadata": {},
   "outputs": [],
   "source": [
    "# For each phase.\n",
    "for phase in TASK_DICT[\"take_umbrella_out_of_umbrella_stand\"][\"phase\"].keys():\n",
    "    N_DEMOS = 10\n",
    "    # Create a dataset for that phase.\n",
    "    dset = RLBenchPlacementDataset(\n",
    "        dataset_root=\"/data/rlbench10/\",\n",
    "        task_name=\"take_umbrella_out_of_umbrella_stand\",\n",
    "        demos=range(N_DEMOS),\n",
    "        phase=phase,\n",
    "    )\n",
    "\n",
    "    # Create 2 x 5 grid of images.\n",
    "    fig, axes = plt.subplots(2, N_DEMOS // 2, figsize=(16, 8))\n",
    "    for i in range(N_DEMOS):\n",
    "        data = dset[i]\n",
    "        axes[i // 5, i % 5].imshow(data[\"key_front_rgb\"])\n",
    "        axes[i // 5, i % 5].set_title(f\"Demo {i}\")"
   ]
  },
  {
   "cell_type": "code",
   "execution_count": null,
   "metadata": {},
   "outputs": [],
   "source": [
    "RLBENCH10_TASKS = [\n",
    "    \"pick_and_lift\",\n",
    "    \"put_knife_on_chopping_board\",\n",
    "    \"take_money_out_safe\",\n",
    "    \"pick_up_cup\",\n",
    "    \"put_money_in_safe\",\n",
    "    \"slide_block_to_target\",\n",
    "    \"take_umbrella_out_of_umbrella_stand\",\n",
    "    \"push_button\",\n",
    "    \"reach_target\",\n",
    "    \"stack_wine\",\n",
    "    \n",
    "]"
   ]
  },
  {
   "cell_type": "markdown",
   "metadata": {},
   "source": [
    "# Plot the keyframes for each task."
   ]
  },
  {
   "cell_type": "code",
   "execution_count": null,
   "metadata": {},
   "outputs": [],
   "source": [
    "# For each keyframe in the data, make a grid of images which show each keyframe.\n",
    "\n",
    "import matplotlib.pyplot as plt\n",
    "\n",
    "RLBENCH10_TASKS = [\n",
    "    # \"insert_onto_square_peg\",\n",
    "    # \"pick_and_lift\",\n",
    "    # \"put_knife_on_chopping_board\",\n",
    "    # \"take_money_out_safe\",\n",
    "    # \"pick_up_cup\",\n",
    "    # \"put_money_in_safe\",\n",
    "    # \"slide_block_to_target\",\n",
    "    # \"take_umbrella_out_of_umbrella_stand\",\n",
    "    # \"push_button\",\n",
    "    # \"reach_target\",\n",
    "    \"stack_wine\",\n",
    "    \n",
    "]\n",
    "\n",
    "for task in RLBENCH10_TASKS:\n",
    "    dset = RLBenchPlacementDataset(\n",
    "        # dataset_root=\"/data/rlbench10/\",\n",
    "        dataset_root=\"/home/beisner/datasets/rlbench/\",\n",
    "        task_name=task,\n",
    "        n_demos=1,\n",
    "    )\n",
    "\n",
    "    data = dset[0]\n",
    "\n",
    "    # Create the figure, which has 1 row for each episode, and 1 column for each keyframe in the demo.\n",
    "    fig, axes = plt.subplots(nrows=1, ncols=len(data[\"keyframes\"]))\n",
    "    fig.set_size_inches(5 * len(data[\"keyframes\"]), 5)\n",
    "\n",
    "    # One row for each episode\n",
    "    for ep in [data]:\n",
    "        if len(ep[\"keyframes\"]) == 1:\n",
    "            axes = [axes]\n",
    "        # One column for each keyframe\n",
    "        for i, ix in enumerate(ep[\"keyframes\"]):\n",
    "            keyframe = ep[\"demo\"][ix]\n",
    "            # Plot the image\n",
    "\n",
    "            axes[i].imshow(keyframe.front_rgb)\n",
    "            axes[i].set_title(f\"Keyframe {i}\")\n",
    "            axes[i].axis(\"off\")\n",
    "\n",
    "    plt.suptitle(f\"Task: {task}\")\n",
    "    plt.show()"
   ]
  },
  {
   "cell_type": "markdown",
   "metadata": {},
   "source": [
    "# Visualize the first keyframes, in order to see which objects matter (including an interactive plot)"
   ]
  },
  {
   "cell_type": "code",
   "execution_count": null,
   "metadata": {},
   "outputs": [],
   "source": [
    "# task_name = \"pick_and_lift\"\n",
    "# task_name = \"put_knife_on_chopping_board\"\n",
    "# task_name = \"take_money_out_safe\"\n",
    "# task_name = \"put_money_in_safe\"\n",
    "# task_name = \"slide_block_to_target\"\n",
    "# task_name = \"take_umbrella_out_of_umbrella_stand\"\n",
    "# task_name = \"push_button\"\n",
    "task_name = \"reach_target\"\n",
    "\n",
    "# Getting individual frames.\n",
    "dset = RLBenchPlacementDataset(\n",
    "    dataset_root=\"/data/rlbench10/\",\n",
    "    # task_name=\"pick_and_lift\",\n",
    "    task_name=task_name,\n",
    "    n_demos=1,\n",
    "    phase=\"grasp\",\n",
    "    debugging=True,\n",
    ")\n",
    "\n",
    "data = dset[0]\n",
    "\n",
    "# Plot RGB image of the initial rgb and final rgb, as well as initial mask and final mask.\n",
    "import matplotlib.pyplot as plt\n",
    "\n",
    "%matplotlib widget\n",
    "\n",
    "plt.figure(figsize=(10, 10))\n",
    "plt.subplot(2, 2, 1)\n",
    "plt.imshow(data[\"init_front_rgb\"])\n",
    "plt.subplot(2, 2, 2)\n",
    "plt.imshow(data[\"key_front_rgb\"])\n",
    "plt.subplot(2, 2, 3)\n",
    "plt.imshow(data[\"init_front_mask\"])\n",
    "plt.subplot(2, 2, 4)\n",
    "plt.imshow(data[\"key_front_mask\"])\n",
    "plt.show()"
   ]
  },
  {
   "cell_type": "markdown",
   "metadata": {},
   "source": [
    "# Extract various properties we can use to annotate the keyframes."
   ]
  },
  {
   "cell_type": "code",
   "execution_count": null,
   "metadata": {},
   "outputs": [],
   "source": [
    "# Get a mapping from handle id to handle name.\n",
    "handle_mapping = load_handle_mapping(\"/data/rlbench10/\", task_name, 0)\n",
    "rev_handle_mapping = {v: k for k, v in handle_mapping.items()}\n",
    "\n",
    "q_id = 100\n",
    "rev_handle_mapping[q_id]"
   ]
  },
  {
   "cell_type": "code",
   "execution_count": null,
   "metadata": {},
   "outputs": [],
   "source": [
    "rev_handle_mapping[137]"
   ]
  },
  {
   "cell_type": "code",
   "execution_count": null,
   "metadata": {},
   "outputs": [],
   "source": [
    "task_name = \"put_money_in_safe\"\n",
    "state_pos_dict = load_state_pos_dict(\"/data/rlbench10/\", task_name, 0, 0)\n",
    "state_pos_dict"
   ]
  },
  {
   "cell_type": "code",
   "execution_count": null,
   "metadata": {},
   "outputs": [],
   "source": []
  },
  {
   "cell_type": "code",
   "execution_count": null,
   "metadata": {},
   "outputs": [],
   "source": [
    "import numpy as np\n",
    "import plotly.graph_objs as go\n",
    "import numpy.typing as npt\n",
    "from typing import Dict, Optional, Sequence\n",
    "\n",
    "from rpad.visualize_3d.plots import _3d_scene, _segmentation_traces\n",
    "\n",
    "def segmentation_fig_rc(\n",
    "    data: npt.ArrayLike,\n",
    "    labels: npt.ArrayLike,\n",
    "    labelmap: Optional[Dict[int, str]] = None,\n",
    "    sizes: Optional[Sequence[int]] = None,\n",
    "    fig: Optional[go.Figure] = None,\n",
    "    row: int = 1,\n",
    "    column: int = 1,\n",
    "    n_col: int = 5,\n",
    "):\n",
    "    \"\"\"Creates a segmentation figure.\"\"\"\n",
    "    # Create a figure.\n",
    "    if fig is None:\n",
    "        fig = go.Figure()\n",
    "\n",
    "    scene_num = (row-1) * n_col + column\n",
    "\n",
    "    fig.add_traces(_segmentation_traces(data, labels, labelmap, f\"scene{scene_num}\", sizes), rows=row, cols=column)\n",
    "\n",
    "    fig.update_layout(\n",
    "\n",
    "        showlegend=True,\n",
    "        margin=dict(l=0, r=0, b=0, t=40),\n",
    "        legend=dict(x=1.0, y=0.75),\n",
    "        **{f\"scene{scene_num}\":_3d_scene(data),}\n",
    "    )\n",
    "\n",
    "    return fig"
   ]
  },
  {
   "cell_type": "code",
   "execution_count": null,
   "metadata": {},
   "outputs": [],
   "source": [
    "data.keys()"
   ]
  },
  {
   "cell_type": "code",
   "execution_count": null,
   "metadata": {},
   "outputs": [],
   "source": [
    "from plotly.subplots import make_subplots\n"
   ]
  },
  {
   "cell_type": "code",
   "execution_count": null,
   "metadata": {},
   "outputs": [],
   "source": [
    "# For each phase, plot the segmentation.\n",
    "\n",
    "\n",
    "phase = list(TASK_DICT[\"take_umbrella_out_of_umbrella_stand\"][\"phase\"].keys())[0]\n",
    "\n",
    "N_DEMOS = 10\n",
    "# Create a dataset for that phase.\n",
    "dset = RLBenchPlacementDataset(\n",
    "    dataset_root=\"/data/rlbench10/\",\n",
    "    task_name=\"take_umbrella_out_of_umbrella_stand\",\n",
    "    demos=range(N_DEMOS),\n",
    "    phase=phase,\n",
    ")\n",
    "\n",
    "fig = make_subplots(rows=2, cols=5, specs=[[{\"type\": \"scene\"}] * 5] * 2)\n",
    "\n",
    "for i in range(N_DEMOS):\n",
    "    data = dset[i]\n",
    "    init_action_pc = data[\"init_action_pc\"]\n",
    "    key_action_pc = data[\"key_action_pc\"]\n",
    "    key_anchor_pc = data[\"key_anchor_pc\"]\n",
    "    pcd = np.concatenate([init_action_pc, key_action_pc, key_anchor_pc], axis=0)\n",
    "    labels = np.concatenate(\n",
    "        [\n",
    "            np.zeros(init_action_pc.shape[0]),\n",
    "            np.ones(key_action_pc.shape[0]),\n",
    "            2 * np.ones(key_anchor_pc.shape[0]),\n",
    "        ]\n",
    "    ).astype(int)\n",
    "    labelmap = {0: \"init_action_pc\", 1: \"key_action_pc\", 2: \"key_anchor_pc\"}\n",
    "    fig = segmentation_fig_rc(pcd, labels, labelmap, fig=fig, row=(i // 5) + 1, column=(i % 5) + 1)\n",
    "fig.show()"
   ]
  },
  {
   "cell_type": "markdown",
   "metadata": {},
   "source": [
    "# Visualize all the phases in plotly for a single task."
   ]
  },
  {
   "cell_type": "code",
   "execution_count": null,
   "metadata": {},
   "outputs": [],
   "source": [
    "demo[0].task_low_dim_state"
   ]
  },
  {
   "cell_type": "code",
   "execution_count": null,
   "metadata": {},
   "outputs": [],
   "source": [
    "# - \"pick_and_lift\",\n",
    "# - \"pick_up_cup\",\n",
    "# - \"put_knife_on_chopping_board\",\n",
    "# - \"put_money_in_safe\",\n",
    "# - \"push_button\",\n",
    "# - \"reach_target\",\n",
    "# - \"slide_block_to_target\",\n",
    "# - \"stack_wine\",\n",
    "# - \"take_money_out_safe\",\n",
    "# - \"take_umbrella_out_of_umbrella_stand\",\n",
    "\n",
    "# task_name = \"pick_and_lift\"\n",
    "# task_name = \"pick_up_cup\"\n",
    "# task_name = \"put_knife_on_chopping_board\"\n",
    "# task_name = \"put_money_in_safe\"\n",
    "# task_name = \"push_button\"\n",
    "# task_name = \"reach_target\"\n",
    "# task_name = \"slide_block_to_target\"\n",
    "task_name = \"stack_wine\"\n",
    "# task_name = \"take_money_out_safe\"\n",
    "# task_name = \"take_umbrella_out_of_umbrella_stand\"\n",
    "\n",
    "n_phases = len(TASK_DICT[task_name][\"phase_order\"])\n",
    "fig = make_subplots(rows=1, cols=n_phases, specs=[[{\"type\": \"scene\"}] * n_phases])\n",
    "\n",
    "for ix, phase in enumerate(TASK_DICT[task_name][\"phase_order\"]):\n",
    "    print(f\"Phase: {phase}\")\n",
    "    dset = RLBenchPlacementDataset(\n",
    "        dataset_root=\"/data/rlbench10/\",\n",
    "        task_name=task_name,\n",
    "        demos=[0],\n",
    "        phase=phase,\n",
    "        debugging=False,\n",
    "        use_first_as_init_keyframe=False,\n",
    "        anchor_mode=\"background_robot_removed\",\n",
    "        action_mode=\"gripper_and_object\",\n",
    "    )\n",
    "\n",
    "    data = dset[0]\n",
    "\n",
    "    # Plot segmentation with segmentation_fig\n",
    "\n",
    "    print(list(data.keys()))\n",
    "\n",
    "    anchor_pc = data[\"init_anchor_pc\"]\n",
    "    # Randomly downsample the anchor point cloud.\n",
    "    n_pts = anchor_pc.shape[0]\n",
    "    if n_pts > 1000:\n",
    "        anchor_pc = anchor_pc[np.random.permutation(n_pts)[:1000]]\n",
    "\n",
    "    points = torch.cat(\n",
    "        [\n",
    "            data[\"init_action_pc\"],\n",
    "            anchor_pc,\n",
    "            data[\"key_action_pc\"],\n",
    "        ]\n",
    "    )\n",
    "    print(points.shape)\n",
    "    seg = torch.cat(\n",
    "        [\n",
    "            torch.zeros(data[\"init_action_pc\"].shape[0]),\n",
    "            torch.ones(anchor_pc.shape[0]),\n",
    "            2 * torch.ones(data[\"key_action_pc\"].shape[0]),\n",
    "        ]\n",
    "    )\n",
    "\n",
    "    fig = segmentation_fig_rc(\n",
    "        points,\n",
    "        seg.int(),\n",
    "        labelmap={0: \"init_action\", 1: \"init_anchor\", 2: \"key_action\"},\n",
    "        fig=fig,\n",
    "        row=1,\n",
    "        column=ix+1,\n",
    "        n_col=n_phases,\n",
    "    )\n",
    "\n",
    "fig.show()\n",
    "    "
   ]
  },
  {
   "cell_type": "code",
   "execution_count": null,
   "metadata": {},
   "outputs": [],
   "source": [
    "!ls /data/rlbench10/put_money_in_safe/variation0/episodes/episode0"
   ]
  },
  {
   "cell_type": "code",
   "execution_count": null,
   "metadata": {},
   "outputs": [],
   "source": [
    "# Debugging dataset.\n",
    "\n"
   ]
  },
  {
   "cell_type": "code",
   "execution_count": null,
   "metadata": {},
   "outputs": [],
   "source": []
  },
  {
   "cell_type": "code",
   "execution_count": null,
   "metadata": {},
   "outputs": [],
   "source": [
    "np.unique(data[\"init_front_mask\"])"
   ]
  },
  {
   "cell_type": "code",
   "execution_count": null,
   "metadata": {},
   "outputs": [],
   "source": [
    "\n",
    "\n",
    "from rpad.rlbench_utils.placement_dataset import obs_to_rgb_point_cloud\n",
    "\n",
    "\n"
   ]
  },
  {
   "cell_type": "code",
   "execution_count": null,
   "metadata": {},
   "outputs": [],
   "source": []
  },
  {
   "cell_type": "code",
   "execution_count": null,
   "metadata": {},
   "outputs": [],
   "source": [
    "\n",
    "unique_elements = set()\n",
    "\n",
    "\n",
    "for task in RLBENCH10_TASKS:\n",
    "    print(f\"Task: {task}\")\n",
    "\n",
    "    dset = RLBenchPlacementDataset(\n",
    "        dataset_root=\"/data/rlbench10/\",\n",
    "        task_name=task,\n",
    "        demos=[0],\n",
    "        phase=\"all\",\n",
    "        debugging=True,\n",
    "    )\n",
    "    data = dset[0]\n",
    "    init_rgb, init_point_cloud, init_mask = obs_to_rgb_point_cloud(data[\"initial_obs\"])\n",
    "    handle_mapping= load_handle_mapping(\n",
    "                dset.dataset_root, dset.task_name, dset.variation\n",
    "            )\n",
    "    inv_h_map = {v: k for k, v in handle_mapping.items()}\n",
    "\n",
    "    for id in np.unique(init_mask):\n",
    "        print(inv_h_map[id])\n",
    "        unique_elements.add(inv_h_map[id])"
   ]
  },
  {
   "cell_type": "code",
   "execution_count": null,
   "metadata": {},
   "outputs": [],
   "source": [
    "unique_elements"
   ]
  },
  {
   "cell_type": "code",
   "execution_count": null,
   "metadata": {},
   "outputs": [],
   "source": [
    "for task_name in RLBENCH_10_TASKS:\n",
    "    print(\"--------------------\")\n",
    "    print(f\"Task: {task_name}\")\n",
    "    print(\"--------------------\")\n",
    "    for phase in TASK_DICT[task_name][\"phase\"].keys():\n",
    "\n",
    "        dset = RLBenchPlacementDataset(\n",
    "            dataset_root=\"/data/rlbench10_collisions/\",\n",
    "            # task_name=\"stack_wine\",\n",
    "            # task_name=\"insert_onto_square_peg\",\n",
    "            # task_name=\"insert_usb_in_computer\",\n",
    "            # task_name=\"phone_on_base\",\n",
    "            # task_name=\"put_toilet_roll_on_stand\",\n",
    "            # task_name=\"place_hanger_on_rack\",\n",
    "            # task_name=\"solve_puzzle\",\n",
    "            # task_name=\"take_umbrella_out_of_umbrella_stand\",\n",
    "            task_name=task_name,\n",
    "            demos=range(100),\n",
    "            phase=phase,\n",
    "        )   \n",
    "        ignore_collisions_all = []\n",
    "        for i in range(len(dset)):\n",
    "            try:\n",
    "                data = dset[i]\n",
    "                ignore_collisions_all.append(data[\"ignore_collisions\"])\n",
    "            except:\n",
    "                print(f\"Error in task {task_name}, phase {phase}, demo {i}\")\n",
    "        ignore_all = (np.array(ignore_collisions_all).any())    \n",
    "        print(f\"Phase: {phase}; Ignore Collisions: {ignore_all}\")\n",
    "\n",
    "\n"
   ]
  },
  {
   "cell_type": "code",
   "execution_count": null,
   "metadata": {},
   "outputs": [],
   "source": []
  }
 ],
 "metadata": {
  "kernelspec": {
   "display_name": "Python 3 (ipykernel)",
   "language": "python",
   "name": "python3"
  },
  "language_info": {
   "codemirror_mode": {
    "name": "ipython",
    "version": 3
   },
   "file_extension": ".py",
   "mimetype": "text/x-python",
   "name": "python",
   "nbconvert_exporter": "python",
   "pygments_lexer": "ipython3",
   "version": "3.9.12"
  }
 },
 "nbformat": 4,
 "nbformat_minor": 4
}
