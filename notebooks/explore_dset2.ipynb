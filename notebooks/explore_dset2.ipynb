{
 "cells": [
  {
   "cell_type": "code",
   "execution_count": null,
   "metadata": {},
   "outputs": [],
   "source": [
    "%load_ext autoreload\n",
    "%autoreload 2"
   ]
  },
  {
   "cell_type": "code",
   "execution_count": null,
   "metadata": {},
   "outputs": [],
   "source": [
    "from rpad.rlbench_utils.placement_dataset import RLBenchPlacementDataset, load_handle_mapping, load_state_pos_dict\n",
    "import numpy as np"
   ]
  },
  {
   "cell_type": "code",
   "execution_count": null,
   "metadata": {},
   "outputs": [],
   "source": [
    "dset = RLBenchPlacementDataset(\n",
    "    dataset_root=\"/home/beisner/datasets/rlbench/\",\n",
    "    # task_name=\"stack_wine\",\n",
    "    task_name=\"insert_onto_square_peg\",\n",
    "    # task_name=\"insert_usb_in_computer\",\n",
    "    # task_name=\"phone_on_base\",\n",
    "    # task_name=\"put_toilet_roll_on_stand\",\n",
    "    n_demos=1,\n",
    "    phase=\"place\",\n",
    ")"
   ]
  },
  {
   "cell_type": "code",
   "execution_count": null,
   "metadata": {},
   "outputs": [],
   "source": [
    "dset.names_to_handles"
   ]
  },
  {
   "cell_type": "code",
   "execution_count": null,
   "metadata": {},
   "outputs": [],
   "source": [
    "dset[0]"
   ]
  },
  {
   "cell_type": "code",
   "execution_count": null,
   "metadata": {},
   "outputs": [],
   "source": [
    "np.unique(dset.demos[0][0].right_shoulder_mask)"
   ]
  },
  {
   "cell_type": "code",
   "execution_count": null,
   "metadata": {},
   "outputs": [],
   "source": [
    "import matplotlib.pyplot as plt"
   ]
  },
  {
   "cell_type": "code",
   "execution_count": null,
   "metadata": {},
   "outputs": [],
   "source": [
    "%matplotlib widget"
   ]
  },
  {
   "cell_type": "code",
   "execution_count": null,
   "metadata": {},
   "outputs": [],
   "source": [
    "# plt.imshow(dset.demos[0][-1].wrist_mask == 116)\n",
    "\n",
    "# Show a grid of images from left, right, front, overhead, and wrist cameras\n",
    "fig, axs = plt.subplots(2, 5, figsize=(10, 4))\n",
    "(ax1, ax2, ax3, ax4, ax5), (ax6, ax7, ax8, ax9, ax10) = axs\n",
    "\n",
    "ax1.imshow(dset.demos[0][-1].left_shoulder_mask)\n",
    "ax1.set_title(\"Left Shoulder Camera\")\n",
    "\n",
    "ax2.imshow(dset.demos[0][-1].right_shoulder_mask)\n",
    "ax2.set_title(\"Right Shoulder Camera\")\n",
    "\n",
    "ax3.imshow(dset.demos[0][-1].front_mask)\n",
    "ax3.set_title(\"Front Camera\")\n",
    "\n",
    "ax4.imshow(dset.demos[0][-1].overhead_mask)\n",
    "ax4.set_title(\"Overhead Camera\")\n",
    "\n",
    "ax5.imshow(dset.demos[0][-1].wrist_mask)\n",
    "ax5.set_title(\"Wrist Camera\")\n",
    "\n",
    "# Now plot only those which match the object mask\n",
    "id = 98\n",
    "ax6.imshow(dset.demos[0][-1].left_shoulder_mask == id)\n",
    "ax6.set_title(\"Left Shoulder Camera\")\n",
    "\n",
    "ax7.imshow(dset.demos[0][-1].right_shoulder_mask == id)\n",
    "ax7.set_title(\"Right Shoulder Camera\")\n",
    "\n",
    "ax8.imshow(dset.demos[0][-1].front_mask == id)\n",
    "ax8.set_title(\"Front Camera\")\n",
    "\n",
    "ax9.imshow(dset.demos[0][-1].overhead_mask == id)\n",
    "ax9.set_title(\"Overhead Camera\")\n",
    "\n",
    "ax10.imshow(dset.demos[0][-1].wrist_mask == id)\n",
    "ax10.set_title(\"Wrist Camera\")\n",
    "\n",
    "plt.tight_layout()\n",
    "\n",
    "\n",
    "\n",
    "plt.show()"
   ]
  },
  {
   "cell_type": "code",
   "execution_count": null,
   "metadata": {},
   "outputs": [],
   "source": [
    "import open3d as o3d\n",
    "from open3d.web_visualizer import draw\n",
    "\n",
    "cube_red = o3d.geometry.TriangleMesh.create_box(1, 2, 4)\n",
    "cube_red.compute_vertex_normals()\n",
    "cube_red.paint_uniform_color((1.0, 0.0, 0.0))\n",
    "draw(cube_red)"
   ]
  },
  {
   "cell_type": "code",
   "execution_count": null,
   "metadata": {},
   "outputs": [],
   "source": [
    "import open3d as o3d\n",
    "import open3d.web_visualizer as wo3d\n",
    "\n",
    "data = dset[0]\n",
    "\n",
    "pcd = o3d.geometry.PointCloud()\n",
    "pcd.points = o3d.utility.Vector3dVector(data[\"key_action_pc\"])\n",
    "# make it red\n",
    "pcd.colors = o3d.utility.Vector3dVector(np.tile(np.array([1, 0, 0]), (data[\"key_action_pc\"].shape[0], 1)))\n",
    "\n",
    "pcd2 = o3d.geometry.PointCloud()\n",
    "pcd2.points = o3d.utility.Vector3dVector(data[\"key_anchor_pc\"])\n",
    "# make it blue\n",
    "pcd2.colors = o3d.utility.Vector3dVector(np.tile(np.array([0, 0, 1]), (data[\"key_anchor_pc\"].shape[0], 1)))\n",
    "\n",
    "pcd3 = o3d.geometry.PointCloud()\n",
    "pcd3.points = o3d.utility.Vector3dVector(data[\"init_action_pc\"])\n",
    "# make it green\n",
    "pcd3.colors = o3d.utility.Vector3dVector(np.tile(np.array([0, 1, 0]), (data[\"init_action_pc\"].shape[0], 1)))\n",
    "\n",
    "init_action_pc = data[\"init_action_pc\"]\n",
    "T_init_key = data[\"T_init_key\"]\n",
    "\n",
    "# Transform the init_action_pc\n",
    "init_action_pc = np.hstack((init_action_pc, np.ones((init_action_pc.shape[0], 1))))\n",
    "tfm_init_action_pc = np.matmul(T_init_key, init_action_pc.T).T[:, :3]\n",
    "\n",
    "pcd4 = o3d.geometry.PointCloud()\n",
    "pcd4.points = o3d.utility.Vector3dVector(tfm_init_action_pc)\n",
    "# make it green\n",
    "pcd4.colors = o3d.utility.Vector3dVector(np.tile(np.array([0, 1, 0]), (tfm_init_action_pc.shape[0], 1)))\n",
    "\n",
    "# o3d.visualization.draw_geometries([\n",
    "wo3d.draw([\n",
    "    pcd, \n",
    "    pcd2,\n",
    "    pcd3,\n",
    "    pcd4,\n",
    "])"
   ]
  },
  {
   "cell_type": "code",
   "execution_count": null,
   "metadata": {},
   "outputs": [],
   "source": [
    "data = dset[0]\n",
    "data[\"key_action_pc\"].shape"
   ]
  },
  {
   "cell_type": "code",
   "execution_count": null,
   "metadata": {},
   "outputs": [],
   "source": [
    "data[\"anchor_pc\"].shape"
   ]
  },
  {
   "cell_type": "code",
   "execution_count": null,
   "metadata": {},
   "outputs": [],
   "source": [
    "dset.demos[0][-1].misc"
   ]
  },
  {
   "cell_type": "code",
   "execution_count": null,
   "metadata": {},
   "outputs": [],
   "source": [
    "state_pos_dict = load_state_pos_dict(dset.dataset_root, \"insert_onto_square_peg\", 0, 0)\n",
    "state_pos_dict"
   ]
  },
  {
   "cell_type": "code",
   "execution_count": null,
   "metadata": {},
   "outputs": [],
   "source": [
    "load_handle_mapping(dset.dataset_root, \"put_toilet_roll_on_stand\", 0)"
   ]
  },
  {
   "cell_type": "code",
   "execution_count": null,
   "metadata": {},
   "outputs": [],
   "source": [
    "for k in dset.demos[0][-1].misc.keys():\n",
    "    print(k)"
   ]
  },
  {
   "cell_type": "code",
   "execution_count": null,
   "metadata": {},
   "outputs": [],
   "source": [
    "dir(dset.demos[0][-1])"
   ]
  },
  {
   "cell_type": "code",
   "execution_count": null,
   "metadata": {},
   "outputs": [],
   "source": [
    "dset.demos[0][-1].get_low_dim_data()"
   ]
  },
  {
   "cell_type": "code",
   "execution_count": null,
   "metadata": {},
   "outputs": [],
   "source": [
    "print(dset.demos[0][0].task_low_dim_state)"
   ]
  },
  {
   "cell_type": "code",
   "execution_count": null,
   "metadata": {},
   "outputs": [],
   "source": [
    "dset.demos[0][0].task_low_dim_state"
   ]
  },
  {
   "cell_type": "code",
   "execution_count": null,
   "metadata": {},
   "outputs": [],
   "source": [
    "start = state_pos_dict[\"wine_bottle\"]\n",
    "end = start + 7\n",
    "p = dset.demos[0][-1].task_low_dim_state[start:end]"
   ]
  },
  {
   "cell_type": "code",
   "execution_count": null,
   "metadata": {},
   "outputs": [],
   "source": [
    "t, q = p[:3], p[3:]"
   ]
  },
  {
   "cell_type": "code",
   "execution_count": null,
   "metadata": {},
   "outputs": [],
   "source": [
    "t"
   ]
  },
  {
   "cell_type": "code",
   "execution_count": null,
   "metadata": {},
   "outputs": [],
   "source": [
    "dset.demos[0][0].gripper_pose.shape"
   ]
  },
  {
   "cell_type": "code",
   "execution_count": null,
   "metadata": {},
   "outputs": [],
   "source": []
  }
 ],
 "metadata": {
  "kernelspec": {
   "display_name": "Python 3 (ipykernel)",
   "language": "python",
   "name": "python3"
  },
  "language_info": {
   "codemirror_mode": {
    "name": "ipython",
    "version": 3
   },
   "file_extension": ".py",
   "mimetype": "text/x-python",
   "name": "python",
   "nbconvert_exporter": "python",
   "pygments_lexer": "ipython3",
   "version": "3.9.12"
  }
 },
 "nbformat": 4,
 "nbformat_minor": 4
}
