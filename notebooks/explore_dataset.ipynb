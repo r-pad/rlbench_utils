{
 "cells": [
  {
   "cell_type": "code",
   "execution_count": null,
   "metadata": {},
   "outputs": [],
   "source": [
    "DATASET = \"/home/beisner/datasets/rlbench/\""
   ]
  },
  {
   "cell_type": "code",
   "execution_count": null,
   "metadata": {},
   "outputs": [],
   "source": [
    "# Use RLBench to get the demo.\n",
    "import numpy as np\n",
    "from rlbench.action_modes.action_mode import MoveArmThenGripper\n",
    "from rlbench.action_modes.arm_action_modes import JointVelocity\n",
    "from rlbench.action_modes.gripper_action_modes import Discrete\n",
    "from rlbench.environment import Environment\n",
    "from rlbench.tasks import StackWine\n",
    "\n",
    "\n",
    "action_mode = MoveArmThenGripper(\n",
    "  arm_action_mode=JointVelocity(),\n",
    "  gripper_action_mode=Discrete()\n",
    ")\n",
    "env = Environment(action_mode, DATASET, headless=True)\n",
    "env.launch()\n",
    "\n",
    "task = env.get_task(StackWine)\n",
    "\n",
    "demos = task.get_demos(1)\n",
    "env.shutdown()"
   ]
  },
  {
   "cell_type": "code",
   "execution_count": null,
   "metadata": {},
   "outputs": [],
   "source": [
    "demos = np.array(demos)"
   ]
  },
  {
   "cell_type": "code",
   "execution_count": null,
   "metadata": {},
   "outputs": [],
   "source": [
    "demos[0][0].overhead_point_cloud.shape"
   ]
  },
  {
   "cell_type": "code",
   "execution_count": null,
   "metadata": {},
   "outputs": [],
   "source": [
    "import cv2\n",
    "import io\n",
    "from IPython.core import display\n",
    "import tempfile\n"
   ]
  },
  {
   "cell_type": "code",
   "execution_count": null,
   "metadata": {},
   "outputs": [],
   "source": [
    "import cv2\n",
    "import io\n",
    "import tempfile\n",
    "import base64\n",
    "from IPython.display import display, HTML, Image\n",
    "\n",
    "# Write a function which takes a list of numpy RGB images and returns a video displayable in Jupyter.\n",
    "def display_video(frames):\n",
    "    height, width, layers = frames[0].shape\n",
    "\n",
    "    # Create a temporary directory to store the video.\n",
    "    with tempfile.TemporaryDirectory() as tmp:\n",
    "        tmp = tmp + \"/video.avi\"\n",
    "        video = cv2.VideoWriter(tmp, cv2.VideoWriter_fourcc(*\"MJPG\"), 30, (width, height))\n",
    "        for frame in frames:\n",
    "            video.write(frame)\n",
    "        video.release()\n",
    "\n",
    "        # Read the video into a bytestream which can be displayed in Jupyter.\n",
    "        with open(tmp, \"rb\") as f:\n",
    "            video_data = f.read()\n",
    "\n",
    "    # Encode the video data in base64\n",
    "    video_base64 = base64.b64encode(video_data).decode()\n",
    "    \n",
    "    # Generate HTML video tag\n",
    "    video_tag = f\"<video width='{width}' height='{height}' controls><source src='data:video/x-msvideo;base64,{video_base64}' type='video/avi'></video>\"\n",
    "    \n",
    "    return display(HTML(video_tag))\n"
   ]
  },
  {
   "cell_type": "code",
   "execution_count": null,
   "metadata": {},
   "outputs": [],
   "source": [
    "# Write a file which displays a single frame from a numpy RGB image without saving the image to disk.\n",
    "def display_frame(frame):\n",
    "    _, encoded_image = cv2.imencode('.png', frame)\n",
    "    return display(Image(data=encoded_image))\n"
   ]
  },
  {
   "cell_type": "code",
   "execution_count": null,
   "metadata": {},
   "outputs": [],
   "source": [
    "frames = [demo.overhead_rgb for demo in demos[0]]"
   ]
  },
  {
   "cell_type": "code",
   "execution_count": null,
   "metadata": {},
   "outputs": [],
   "source": [
    "display_video(frames)"
   ]
  },
  {
   "cell_type": "code",
   "execution_count": null,
   "metadata": {},
   "outputs": [],
   "source": [
    "display_frame(demos[0][0].overhead_rgb)"
   ]
  },
  {
   "cell_type": "code",
   "execution_count": null,
   "metadata": {},
   "outputs": [],
   "source": [
    "def obs_to_rgb_point_cloud(obs):\n",
    "    # Get the overhead, left, front, and right RGB images.\n",
    "    overhead_rgb = obs.overhead_rgb\n",
    "    left_rgb = obs.left_shoulder_rgb\n",
    "    right_rgb = obs.right_shoulder_rgb\n",
    "    front_rgb = obs.front_rgb\n",
    "\n",
    "    # Get the overhead, left, front, and right point clouds. The point clouds are \n",
    "    # in the same shape as the images.\n",
    "    overhead_point_cloud = obs.overhead_point_cloud\n",
    "    left_point_cloud = obs.left_shoulder_point_cloud\n",
    "    right_point_cloud = obs.right_shoulder_point_cloud\n",
    "    front_point_cloud = obs.front_point_cloud\n",
    "\n",
    "    # Get masks.\n",
    "    overhead_mask = obs.overhead_mask\n",
    "    left_mask = obs.left_shoulder_mask\n",
    "    right_mask = obs.right_shoulder_mask\n",
    "    front_mask = obs.front_mask\n",
    "\n",
    "    # Flatten RGB and point cloud images into Nx3 arrays\n",
    "    overhead_rgb = overhead_rgb.reshape((-1, 3))\n",
    "    left_rgb = left_rgb.reshape((-1, 3))\n",
    "    right_rgb = right_rgb.reshape((-1, 3))\n",
    "    front_rgb = front_rgb.reshape((-1, 3))\n",
    "\n",
    "    overhead_point_cloud = overhead_point_cloud.reshape((-1, 3))\n",
    "    left_point_cloud = left_point_cloud.reshape((-1, 3))\n",
    "    right_point_cloud = right_point_cloud.reshape((-1, 3))\n",
    "    front_point_cloud = front_point_cloud.reshape((-1, 3))\n",
    "\n",
    "    # Reshape the masks into Nx1 arrays.\n",
    "    overhead_mask = overhead_mask.reshape((-1, 1))\n",
    "    left_mask = left_mask.reshape((-1, 1))\n",
    "    right_mask = right_mask.reshape((-1, 1))\n",
    "    front_mask = front_mask.reshape((-1, 1))\n",
    "\n",
    "    # Stack the RGB and point cloud images together.\n",
    "    rgb = np.vstack((overhead_rgb, left_rgb, right_rgb, front_rgb))\n",
    "    point_cloud = np.vstack((overhead_point_cloud, left_point_cloud, right_point_cloud, front_point_cloud))\n",
    "    mask = np.vstack((overhead_mask, left_mask, right_mask, front_mask))\n",
    "\n",
    "    return rgb, point_cloud, mask\n",
    "    \n"
   ]
  },
  {
   "cell_type": "code",
   "execution_count": null,
   "metadata": {},
   "outputs": [],
   "source": [
    "rgbs, point_clouds, masks = obs_to_rgb_point_cloud(demos[0][0])"
   ]
  },
  {
   "cell_type": "code",
   "execution_count": null,
   "metadata": {},
   "outputs": [],
   "source": [
    "action_obj_ids = [160]\n",
    "anchor_obj_ids = [152, 154]\n",
    "\n",
    "# Get get rgb and point cloud for all points whose mask matches in list of ids\n",
    "def get_rgb_point_cloud_by_mask(rgb, point_cloud, mask, ids):\n",
    "    # Get the indices of the points which match the ids.\n",
    "    indices = np.isin(mask, ids).reshape((-1))\n",
    "    # Get the rgb and point cloud for the indices.\n",
    "    rgb = rgb[indices]\n",
    "    point_cloud = point_cloud[indices]\n",
    "    return rgb, point_cloud\n",
    "\n",
    "# Get the rgb and point cloud for the action objects.\n",
    "action_rgb, action_point_cloud = get_rgb_point_cloud_by_mask(rgbs, point_clouds, masks, action_obj_ids)\n",
    "\n",
    "# Get the rgb and point cloud for the anchor objects.\n",
    "anchor_rgb, anchor_point_cloud = get_rgb_point_cloud_by_mask(rgbs, point_clouds, masks, anchor_obj_ids)\n",
    "\n",
    "# Create an open3d visualization of these two point clouds\n",
    "action_pc = o3d.geometry.PointCloud()\n",
    "action_pc.points = o3d.utility.Vector3dVector(action_point_cloud)\n",
    "action_pc.colors = o3d.utility.Vector3dVector(action_rgb / 255.0)\n",
    "\n",
    "anchor_pc = o3d.geometry.PointCloud()\n",
    "anchor_pc.points = o3d.utility.Vector3dVector(anchor_point_cloud)\n",
    "anchor_pc.colors = o3d.utility.Vector3dVector(anchor_rgb / 255.0)\n",
    "\n",
    "o3d.visualization.draw_geometries([action_pc, anchor_pc])"
   ]
  },
  {
   "cell_type": "code",
   "execution_count": null,
   "metadata": {},
   "outputs": [],
   "source": [
    "import numpy as np"
   ]
  },
  {
   "cell_type": "code",
   "execution_count": null,
   "metadata": {},
   "outputs": [],
   "source": [
    "import open3d as o3d\n",
    "\n",
    "# Create an Open3D point cloud from the point cloud data, with RGB.\n",
    "point_cloud = o3d.geometry.PointCloud()\n",
    "point_cloud.points = o3d.utility.Vector3dVector(point_clouds)\n",
    "# point_cloud.colors = o3d.utility.Vector3dVector(rgbs / 255.0)\n",
    "\n",
    "# Masks contains per-class labels for each point. We can use this to color the point cloud.\n",
    "# We don't know in advance how many classes there are, so we'll generate a random color for each class.\n",
    "colors = np.random.uniform(0, 1, size=(masks.max() + 1, 3))\n",
    "point_cloud.colors = o3d.utility.Vector3dVector(colors[masks[... , 0]])\n",
    "\n",
    "# Visualize the point cloud.\n",
    "o3d.visualization.draw_geometries([point_cloud])"
   ]
  },
  {
   "cell_type": "code",
   "execution_count": null,
   "metadata": {},
   "outputs": [],
   "source": [
    "# For each class in the mask, create a point cloud and a random color:\n",
    "colors = np.random.uniform(0, 1, size=(len(np.unique(masks)), 3))\n",
    "o3d_pcds = []\n",
    "for cl, co in zip(np.unique(masks), colors):\n",
    "    # Create a point cloud for this class.\n",
    "    class_point_cloud = o3d.geometry.PointCloud()\n",
    "    pts = point_clouds[masks[... , 0] == cl]\n",
    "    class_point_cloud.points = o3d.utility.Vector3dVector(pts)\n",
    "    # Repeat the color for each point in the point cloud.\n",
    "    class_point_cloud.colors = o3d.utility.Vector3dVector(np.tile(co, (pts.shape[0], 1)))\n",
    "    o3d_pcds.append(class_point_cloud)\n"
   ]
  },
  {
   "cell_type": "code",
   "execution_count": null,
   "metadata": {},
   "outputs": [],
   "source": [
    "# Visualize the point clouds, one at a time\n",
    "for masknum, pcd in zip(np.unique(masks), o3d_pcds):\n",
    "    print(masknum)\n",
    "    o3d.visualization.draw_geometries([pcd])\n"
   ]
  },
  {
   "cell_type": "code",
   "execution_count": null,
   "metadata": {},
   "outputs": [],
   "source": [
    "# Create a plotly figure with the point clouds.\n",
    "import plotly.graph_objects as go\n",
    "\n",
    "fig = go.Figure()\n",
    "\n",
    "# The labels are stored in the masks. We can use this to color the point cloud.\n",
    "\n",
    "# fig.add_trace(go.Scatter3d(\n",
    "#     x=point_clouds[... , 0],\n",
    "#     y=point_clouds[... , 1],\n",
    "#     z=point_clouds[... , 2],\n",
    "#     mode='markers',\n",
    "#     marker=dict(\n",
    "#         size=2,\n",
    "#         color=masks[... , 0],                # set color to an array/list of desired values\n",
    "#         colorscale='Viridis',   # choose a colorscale\n",
    "#         opacity=0.8\n",
    "#     )\n",
    "# ))\n",
    "\n",
    "# For each class in the mask, create a point cloud and a random color:\n",
    "colors = np.random.uniform(0, 1, size=(len(np.unique(masks)), 3))\n",
    "for cl, co in zip(np.unique(masks), colors):\n",
    "    # Create a point cloud for this class.\n",
    "    pts = point_clouds[masks[... , 0] == cl]\n",
    "    fig.add_trace(go.Scatter3d(\n",
    "        x=pts[... , 0],\n",
    "        y=pts[... , 1],\n",
    "        z=pts[... , 2],\n",
    "        mode='markers',\n",
    "        marker=dict(\n",
    "            size=2,\n",
    "            color=co,                # set color to an array/list of desired values\n",
    "            opacity=0.8\n",
    "        ),\n",
    "        name=str(cl)\n",
    "    ))\n",
    "\n",
    "\n",
    "fig.update_layout(\n",
    "    scene=dict(\n",
    "        xaxis=dict(nticks=4, range=[-1,1],),\n",
    "        yaxis=dict(nticks=4, range=[-1,1],),\n",
    "        zaxis=dict(nticks=4, range=[-1,3],),\n",
    "    ),\n",
    "    width=700,\n",
    "    margin=dict(r=20, l=10, b=10, t=10))\n",
    "\n",
    "# Add a legend with the class names.\n",
    "fig.update_layout(\n",
    "    legend_title_text='Classes',\n",
    "    legend_traceorder=\"reversed\",\n",
    "    legend=dict(\n",
    "        yanchor=\"top\",\n",
    "        y=0.99,\n",
    "        xanchor=\"left\",\n",
    "        x=0.01\n",
    "    )\n",
    ")\n",
    "\n",
    "\n",
    "fig.show()"
   ]
  },
  {
   "cell_type": "code",
   "execution_count": null,
   "metadata": {},
   "outputs": [],
   "source": [
    "np.unique(masks)"
   ]
  },
  {
   "cell_type": "code",
   "execution_count": null,
   "metadata": {},
   "outputs": [],
   "source": [
    "colors[masks].shape"
   ]
  },
  {
   "cell_type": "code",
   "execution_count": null,
   "metadata": {},
   "outputs": [],
   "source": [
    "np.unique(masks)"
   ]
  },
  {
   "cell_type": "code",
   "execution_count": null,
   "metadata": {},
   "outputs": [],
   "source": [
    "dir(demos[0][0])"
   ]
  },
  {
   "cell_type": "code",
   "execution_count": null,
   "metadata": {},
   "outputs": [],
   "source": [
    "%load_ext autoreload\n",
    "%autoreload 2\n"
   ]
  },
  {
   "cell_type": "code",
   "execution_count": null,
   "metadata": {},
   "outputs": [],
   "source": [
    "from rpad.rlbench_utils.placement_dataset import RLBenchPlacementDataset"
   ]
  },
  {
   "cell_type": "code",
   "execution_count": null,
   "metadata": {},
   "outputs": [],
   "source": [
    "dset = RLBenchPlacementDataset(DATASET, \"stack_wine\", 10)"
   ]
  },
  {
   "cell_type": "code",
   "execution_count": null,
   "metadata": {},
   "outputs": [],
   "source": []
  },
  {
   "cell_type": "code",
   "execution_count": null,
   "metadata": {},
   "outputs": [],
   "source": []
  },
  {
   "cell_type": "code",
   "execution_count": null,
   "metadata": {},
   "outputs": [],
   "source": [
    "data = dset[0]\n",
    "\n",
    "action_pc = data['action_pc']\n",
    "action_rgb = data['action_rgb']\n",
    "\n",
    "# Use open3d to visualize the point cloud.\n",
    "o3d_action_pc = o3d.geometry.PointCloud()\n",
    "o3d_action_pc.points = o3d.utility.Vector3dVector(action_pc)\n",
    "o3d_action_pc.colors = o3d.utility.Vector3dVector(action_rgb / 255.0)\n",
    "# o3d.visualization.draw_geometries([o3d_action_pc])\n",
    "\n",
    "\n",
    "anchor_pc = data['anchor_pc']\n",
    "anchor_rgb = data['anchor_rgb']\n",
    "\n",
    "# Use open3d to visualize the point cloud.\n",
    "o3d_anchor_pc = o3d.geometry.PointCloud()\n",
    "o3d_anchor_pc.points = o3d.utility.Vector3dVector(anchor_pc)\n",
    "o3d_anchor_pc.colors = o3d.utility.Vector3dVector(anchor_rgb / 255.0)\n",
    "# o3d.visualization.draw_geometries([o3d_anchor_pc])\n",
    "\n",
    "o3d.visualization.draw_geometries([o3d_action_pc, o3d_anchor_pc])\n"
   ]
  },
  {
   "cell_type": "code",
   "execution_count": null,
   "metadata": {},
   "outputs": [],
   "source": [
    "# Draw both\n"
   ]
  },
  {
   "cell_type": "code",
   "execution_count": null,
   "metadata": {},
   "outputs": [],
   "source": [
    "action_rgb.shape"
   ]
  },
  {
   "cell_type": "code",
   "execution_count": null,
   "metadata": {},
   "outputs": [],
   "source": []
  }
 ],
 "metadata": {
  "kernelspec": {
   "display_name": "Python 3 (ipykernel)",
   "language": "python",
   "name": "python3"
  },
  "language_info": {
   "codemirror_mode": {
    "name": "ipython",
    "version": 3
   },
   "file_extension": ".py",
   "mimetype": "text/x-python",
   "name": "python",
   "nbconvert_exporter": "python",
   "pygments_lexer": "ipython3",
   "version": "3.9.12"
  }
 },
 "nbformat": 4,
 "nbformat_minor": 4
}
